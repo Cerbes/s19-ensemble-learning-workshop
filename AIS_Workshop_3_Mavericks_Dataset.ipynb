{
  "nbformat": 4,
  "nbformat_minor": 0,
  "metadata": {
    "colab": {
      "name": "AIS Workshop 3 - Mavericks Dataset.ipynb",
      "version": "0.3.2",
      "provenance": [],
      "collapsed_sections": []
    },
    "kernelspec": {
      "name": "python3",
      "display_name": "Python 3"
    },
    "accelerator": "GPU"
  },
  "cells": [
    {
      "metadata": {
        "id": "r4rqWsbcciS6",
        "colab_type": "code",
        "colab": {}
      },
      "cell_type": "code",
      "source": [
        "import pandas as pd\n",
        "import numpy as np\n",
        "from sklearn.metrics import mean_absolute_error\n",
        "from sklearn.metrics import accuracy_score\n",
        "import pickle\n",
        "import xgboost as xgb"
      ],
      "execution_count": 0,
      "outputs": []
    },
    {
      "metadata": {
        "id": "PJebR-t0dBOc",
        "colab_type": "code",
        "colab": {}
      },
      "cell_type": "code",
      "source": [
        "# If on google chrome, upload the file here.\n",
        "from google.colab import files\n",
        "import io\n",
        "files.upload()"
      ],
      "execution_count": 0,
      "outputs": []
    },
    {
      "metadata": {
        "id": "L_GNW3V4sBpM",
        "colab_type": "code",
        "outputId": "dbf38ef1-d93c-4c5d-f461-1b5348bf015c",
        "colab": {
          "base_uri": "https://localhost:8080/",
          "height": 377
        }
      },
      "cell_type": "code",
      "source": [
        "# If on firefox or google chrome, open the sidebar, go to \"files\" tab, and upload there.\n",
        "all_games_info = pd.read_csv(\"all_game_info.csv\")\n",
        "all_games_info.head()"
      ],
      "execution_count": 4,
      "outputs": [
        {
          "output_type": "execute_result",
          "data": {
            "text/html": [
              "<div>\n",
              "<style scoped>\n",
              "    .dataframe tbody tr th:only-of-type {\n",
              "        vertical-align: middle;\n",
              "    }\n",
              "\n",
              "    .dataframe tbody tr th {\n",
              "        vertical-align: top;\n",
              "    }\n",
              "\n",
              "    .dataframe thead th {\n",
              "        text-align: right;\n",
              "    }\n",
              "</style>\n",
              "<table border=\"1\" class=\"dataframe\">\n",
              "  <thead>\n",
              "    <tr style=\"text-align: right;\">\n",
              "      <th></th>\n",
              "      <th>game_name</th>\n",
              "      <th>away</th>\n",
              "      <th>away_C_2PM</th>\n",
              "      <th>away_C_2PX</th>\n",
              "      <th>away_C_3PM</th>\n",
              "      <th>away_C_3PX</th>\n",
              "      <th>away_C_PASS</th>\n",
              "      <th>away_C_POSS</th>\n",
              "      <th>away_C_TO</th>\n",
              "      <th>away_PF_2PM</th>\n",
              "      <th>...</th>\n",
              "      <th>home_SF_POSS</th>\n",
              "      <th>home_SF_TO</th>\n",
              "      <th>home_SG_2PM</th>\n",
              "      <th>home_SG_2PX</th>\n",
              "      <th>home_SG_3PM</th>\n",
              "      <th>home_SG_3PX</th>\n",
              "      <th>home_SG_PASS</th>\n",
              "      <th>home_SG_POSS</th>\n",
              "      <th>home_SG_TO</th>\n",
              "      <th>home_points</th>\n",
              "    </tr>\n",
              "  </thead>\n",
              "  <tbody>\n",
              "    <tr>\n",
              "      <th>0</th>\n",
              "      <td>2017-03-08-NYK-MIL.csv</td>\n",
              "      <td>NYK</td>\n",
              "      <td>4.0</td>\n",
              "      <td>3.50</td>\n",
              "      <td>0.0</td>\n",
              "      <td>0.00</td>\n",
              "      <td>35.50</td>\n",
              "      <td>45.0</td>\n",
              "      <td>3.5</td>\n",
              "      <td>1.75</td>\n",
              "      <td>...</td>\n",
              "      <td>79.0</td>\n",
              "      <td>1.0</td>\n",
              "      <td>2.0</td>\n",
              "      <td>2.0</td>\n",
              "      <td>2.00</td>\n",
              "      <td>2.333333</td>\n",
              "      <td>33.333333</td>\n",
              "      <td>40.666667</td>\n",
              "      <td>0.333333</td>\n",
              "      <td>82</td>\n",
              "    </tr>\n",
              "    <tr>\n",
              "      <th>1</th>\n",
              "      <td>2017-01-17-DAL-CHI.csv</td>\n",
              "      <td>DAL</td>\n",
              "      <td>2.0</td>\n",
              "      <td>0.50</td>\n",
              "      <td>0.0</td>\n",
              "      <td>0.50</td>\n",
              "      <td>14.00</td>\n",
              "      <td>15.0</td>\n",
              "      <td>0.5</td>\n",
              "      <td>3.00</td>\n",
              "      <td>...</td>\n",
              "      <td>75.0</td>\n",
              "      <td>3.0</td>\n",
              "      <td>5.0</td>\n",
              "      <td>8.0</td>\n",
              "      <td>0.50</td>\n",
              "      <td>2.000000</td>\n",
              "      <td>24.000000</td>\n",
              "      <td>39.000000</td>\n",
              "      <td>2.000000</td>\n",
              "      <td>80</td>\n",
              "    </tr>\n",
              "    <tr>\n",
              "      <th>2</th>\n",
              "      <td>2017-03-10-IND-MIL.csv</td>\n",
              "      <td>IND</td>\n",
              "      <td>2.0</td>\n",
              "      <td>3.25</td>\n",
              "      <td>0.0</td>\n",
              "      <td>0.25</td>\n",
              "      <td>18.75</td>\n",
              "      <td>22.5</td>\n",
              "      <td>0.5</td>\n",
              "      <td>5.00</td>\n",
              "      <td>...</td>\n",
              "      <td>81.0</td>\n",
              "      <td>6.0</td>\n",
              "      <td>2.0</td>\n",
              "      <td>2.5</td>\n",
              "      <td>1.25</td>\n",
              "      <td>1.500000</td>\n",
              "      <td>30.500000</td>\n",
              "      <td>38.750000</td>\n",
              "      <td>1.750000</td>\n",
              "      <td>73</td>\n",
              "    </tr>\n",
              "    <tr>\n",
              "      <th>3</th>\n",
              "      <td>2016-11-27-HOU-POR.csv</td>\n",
              "      <td>HOU</td>\n",
              "      <td>6.5</td>\n",
              "      <td>3.00</td>\n",
              "      <td>0.0</td>\n",
              "      <td>0.00</td>\n",
              "      <td>28.00</td>\n",
              "      <td>31.0</td>\n",
              "      <td>0.5</td>\n",
              "      <td>2.50</td>\n",
              "      <td>...</td>\n",
              "      <td>26.0</td>\n",
              "      <td>0.0</td>\n",
              "      <td>2.0</td>\n",
              "      <td>3.0</td>\n",
              "      <td>2.00</td>\n",
              "      <td>1.000000</td>\n",
              "      <td>23.500000</td>\n",
              "      <td>29.000000</td>\n",
              "      <td>1.500000</td>\n",
              "      <td>92</td>\n",
              "    </tr>\n",
              "    <tr>\n",
              "      <th>4</th>\n",
              "      <td>2016-03-23-DAL-POR.csv</td>\n",
              "      <td>DAL</td>\n",
              "      <td>4.0</td>\n",
              "      <td>4.50</td>\n",
              "      <td>0.0</td>\n",
              "      <td>0.00</td>\n",
              "      <td>20.00</td>\n",
              "      <td>25.5</td>\n",
              "      <td>2.5</td>\n",
              "      <td>4.00</td>\n",
              "      <td>...</td>\n",
              "      <td>31.0</td>\n",
              "      <td>0.5</td>\n",
              "      <td>1.5</td>\n",
              "      <td>1.5</td>\n",
              "      <td>1.00</td>\n",
              "      <td>1.000000</td>\n",
              "      <td>13.500000</td>\n",
              "      <td>19.000000</td>\n",
              "      <td>0.500000</td>\n",
              "      <td>77</td>\n",
              "    </tr>\n",
              "  </tbody>\n",
              "</table>\n",
              "<p>5 rows × 75 columns</p>\n",
              "</div>"
            ],
            "text/plain": [
              "                game_name away  away_C_2PM  away_C_2PX  away_C_3PM  \\\n",
              "0  2017-03-08-NYK-MIL.csv  NYK         4.0        3.50         0.0   \n",
              "1  2017-01-17-DAL-CHI.csv  DAL         2.0        0.50         0.0   \n",
              "2  2017-03-10-IND-MIL.csv  IND         2.0        3.25         0.0   \n",
              "3  2016-11-27-HOU-POR.csv  HOU         6.5        3.00         0.0   \n",
              "4  2016-03-23-DAL-POR.csv  DAL         4.0        4.50         0.0   \n",
              "\n",
              "   away_C_3PX  away_C_PASS  away_C_POSS  away_C_TO  away_PF_2PM     ...       \\\n",
              "0        0.00        35.50         45.0        3.5         1.75     ...        \n",
              "1        0.50        14.00         15.0        0.5         3.00     ...        \n",
              "2        0.25        18.75         22.5        0.5         5.00     ...        \n",
              "3        0.00        28.00         31.0        0.5         2.50     ...        \n",
              "4        0.00        20.00         25.5        2.5         4.00     ...        \n",
              "\n",
              "   home_SF_POSS  home_SF_TO  home_SG_2PM  home_SG_2PX  home_SG_3PM  \\\n",
              "0          79.0         1.0          2.0          2.0         2.00   \n",
              "1          75.0         3.0          5.0          8.0         0.50   \n",
              "2          81.0         6.0          2.0          2.5         1.25   \n",
              "3          26.0         0.0          2.0          3.0         2.00   \n",
              "4          31.0         0.5          1.5          1.5         1.00   \n",
              "\n",
              "   home_SG_3PX  home_SG_PASS  home_SG_POSS  home_SG_TO  home_points  \n",
              "0     2.333333     33.333333     40.666667    0.333333           82  \n",
              "1     2.000000     24.000000     39.000000    2.000000           80  \n",
              "2     1.500000     30.500000     38.750000    1.750000           73  \n",
              "3     1.000000     23.500000     29.000000    1.500000           92  \n",
              "4     1.000000     13.500000     19.000000    0.500000           77  \n",
              "\n",
              "[5 rows x 75 columns]"
            ]
          },
          "metadata": {
            "tags": []
          },
          "execution_count": 4
        }
      ]
    },
    {
      "metadata": {
        "id": "G0sqsc1kgU4Y",
        "colab_type": "code",
        "colab": {}
      },
      "cell_type": "code",
      "source": [
        "def setup_train_test(games_info: pd.core.frame.DataFrame):\n",
        "    if games_info is None:\n",
        "        raise ValueError(\"Please pass the pandas dataframe\")\n",
        "        \n",
        "    atts_to_exclude = ['home','away','game_name', 'away_points','home_points']\n",
        "    atts_to_exclude += [col for col in games_info.columns.values if \"PM\" in col]\n",
        "\n",
        "    train_df = games_info.sample(frac=0.8)    # split into training and testing\n",
        "    test_df = games_info.drop(train_df.index)\n",
        "\n",
        "    x_train = train_df.drop(atts_to_exclude,axis=1)\n",
        "    x_test = test_df.drop(['away_points','home_points']+atts_to_exclude,axis=1)\n",
        "    y_train_home = train_df['home_points']\n",
        "    y_train_away = train_df['away_points']\n",
        "    \n",
        "    return (x_train, x_test, y_train_home, y_train_away, test_df)"
      ],
      "execution_count": 0,
      "outputs": []
    },
    {
      "metadata": {
        "id": "NPeWPVaSoePL",
        "colab_type": "code",
        "outputId": "bfcbf383-3231-4a0b-ab91-01aaa5e8c9c7",
        "colab": {
          "base_uri": "https://localhost:8080/",
          "height": 121
        }
      },
      "cell_type": "code",
      "source": [
        "x_train, x_test, y_train_home, y_train_away, test_df = setup_train_test(all_games_info)\n",
        "print(\"# of unique end scores:\", len(np.unique(y_train_home)))\n",
        "print(\"Array:\", np.unique(y_train_home))"
      ],
      "execution_count": 16,
      "outputs": [
        {
          "output_type": "stream",
          "text": [
            "# of unique end scores: 85\n",
            "Array: [ 47  57  58  59  60  61  62  63  64  65  66  67  68  69  70  71  72  73\n",
            "  74  75  76  77  78  79  80  81  82  83  84  85  86  87  88  89  90  91\n",
            "  92  93  94  95  96  97  98  99 100 101 102 103 104 105 106 107 108 109\n",
            " 110 111 112 113 114 115 116 117 118 119 120 121 122 123 125 126 127 129\n",
            " 130 131 132 134 136 137 138 140 141 143 146 147 148]\n"
          ],
          "name": "stdout"
        }
      ]
    },
    {
      "metadata": {
        "id": "JoYj6GeHG1Lg",
        "colab_type": "code",
        "colab": {}
      },
      "cell_type": "code",
      "source": [
        "# Train and test using the archived files provided in the repository\n",
        "\n",
        "h_classifier = pickle.load(open(\"home_classifier.pickle.dat\", \"rb\"))\n",
        "a_classifier = pickle.load(open(\"away_classifier.pickle.dat\", \"rb\"))\n",
        "test_df = pd.read_csv(\"test_data.csv\")\n",
        "test_df.head()\n",
        "atts_to_exclude = ['home','away','game_name', 'away_points','home_points']\n",
        "atts_to_exclude += [col for col in all_games_info.columns.values if \"PM\" in col]\n",
        "x_test = test_df.drop(atts_to_exclude,axis=1)"
      ],
      "execution_count": 0,
      "outputs": []
    },
    {
      "metadata": {
        "id": "2MhFZQ8gjIR1",
        "colab_type": "code",
        "colab": {}
      },
      "cell_type": "code",
      "source": [
        "def generate_classifiers(x_train, x_test, y_train_home, y_train_away):\n",
        "    home_classifier = xgb.XGBClassifier(n_estimators = 300, n_jobs = -1, verbosity = 0, learning_rate = 0.1)\n",
        "    away_classifier = xgb.XGBClassifier(n_estimators = 300, n_jobs = -1, verbosity = 0, learning_rate = 0.1)\n",
        " \n",
        "    \n",
        "    home_classifier.fit(x_train, y_train_home)\n",
        "    away_classifier.fit(x_train, y_train_away)\n",
        "    \n",
        "    return (home_classifier, away_classifier)"
      ],
      "execution_count": 0,
      "outputs": []
    },
    {
      "metadata": {
        "id": "pM3u_7UNUEOD",
        "colab_type": "code",
        "colab": {}
      },
      "cell_type": "code",
      "source": [
        "# Train it yourself\n",
        "h_classifier, a_classifier = generate_classifiers(x_train, x_test, y_train_home, y_train_away)"
      ],
      "execution_count": 0,
      "outputs": []
    },
    {
      "metadata": {
        "id": "JP8aPEoOmnpj",
        "colab_type": "code",
        "colab": {}
      },
      "cell_type": "code",
      "source": [
        "def generate_results(games_info, home_predictions, away_predictions):\n",
        "    def calculate_loss(results_dict: dict):\n",
        "        for stats in results_dict.values():\n",
        "            stats[\"home_loss\"] = (stats[\"home_points_predicted\"] -\n",
        "                                     stats[\"home_points_actual\"])\n",
        "            stats[\"away_loss\"] = (stats[\"away_points_predicted\"] -\n",
        "                                     stats[\"away_points_actual\"])\n",
        "\n",
        "    results = pd.DataFrame({'game_name': games_info.game_name,\n",
        "                        'home_points_predicted': home_predictions,\n",
        "                        'away_points_predicted': away_predictions,\n",
        "                        'home_points_actual': games_info.home_points,\n",
        "                        'away_points_actual': games_info.away_points})\n",
        "    results_dict = results.to_dict(\"index\")\n",
        "    calculate_loss(results_dict)\n",
        "    results = pd.DataFrame(results_dict).transpose()\n",
        "    \n",
        "    return results.sort_values(by=[\"game_name\", \"home_loss\", \"away_loss\"]).reset_index()[[\"game_name\",\n",
        "                                              \"home_points_predicted\",\n",
        "                                              \"home_points_actual\",\n",
        "                                              \"home_loss\",\n",
        "                                              \"away_points_predicted\",\n",
        "                                              \"away_points_actual\",\n",
        "                                              \"away_loss\"]]"
      ],
      "execution_count": 0,
      "outputs": []
    },
    {
      "metadata": {
        "id": "1jkYTbBluABW",
        "colab_type": "code",
        "outputId": "ecbfce96-ad2f-4451-850f-b9ae9a46c50e",
        "colab": {
          "base_uri": "https://localhost:8080/",
          "height": 206
        }
      },
      "cell_type": "code",
      "source": [
        "h_predictions = h_classifier.predict(x_test)\n",
        "a_predictions = a_classifier.predict(x_test)\n",
        "results = generate_results(test_df, h_predictions, a_predictions)\n",
        "results.head()"
      ],
      "execution_count": 20,
      "outputs": [
        {
          "output_type": "execute_result",
          "data": {
            "text/html": [
              "<div>\n",
              "<style scoped>\n",
              "    .dataframe tbody tr th:only-of-type {\n",
              "        vertical-align: middle;\n",
              "    }\n",
              "\n",
              "    .dataframe tbody tr th {\n",
              "        vertical-align: top;\n",
              "    }\n",
              "\n",
              "    .dataframe thead th {\n",
              "        text-align: right;\n",
              "    }\n",
              "</style>\n",
              "<table border=\"1\" class=\"dataframe\">\n",
              "  <thead>\n",
              "    <tr style=\"text-align: right;\">\n",
              "      <th></th>\n",
              "      <th>game_name</th>\n",
              "      <th>home_points_predicted</th>\n",
              "      <th>home_points_actual</th>\n",
              "      <th>home_loss</th>\n",
              "      <th>away_points_predicted</th>\n",
              "      <th>away_points_actual</th>\n",
              "      <th>away_loss</th>\n",
              "    </tr>\n",
              "  </thead>\n",
              "  <tbody>\n",
              "    <tr>\n",
              "      <th>0</th>\n",
              "      <td>2016-02-01-MIL-SAC.csv</td>\n",
              "      <td>87</td>\n",
              "      <td>87</td>\n",
              "      <td>0</td>\n",
              "      <td>92</td>\n",
              "      <td>92</td>\n",
              "      <td>0</td>\n",
              "    </tr>\n",
              "    <tr>\n",
              "      <th>1</th>\n",
              "      <td>2016-02-01-TOR-DEN.csv</td>\n",
              "      <td>112</td>\n",
              "      <td>112</td>\n",
              "      <td>0</td>\n",
              "      <td>54</td>\n",
              "      <td>54</td>\n",
              "      <td>0</td>\n",
              "    </tr>\n",
              "    <tr>\n",
              "      <th>2</th>\n",
              "      <td>2016-02-02-MIL-POR.csv</td>\n",
              "      <td>115</td>\n",
              "      <td>89</td>\n",
              "      <td>26</td>\n",
              "      <td>82</td>\n",
              "      <td>81</td>\n",
              "      <td>1</td>\n",
              "    </tr>\n",
              "    <tr>\n",
              "      <th>3</th>\n",
              "      <td>2016-02-02-MIN-LAL.csv</td>\n",
              "      <td>84</td>\n",
              "      <td>92</td>\n",
              "      <td>-8</td>\n",
              "      <td>90</td>\n",
              "      <td>96</td>\n",
              "      <td>-6</td>\n",
              "    </tr>\n",
              "    <tr>\n",
              "      <th>4</th>\n",
              "      <td>2016-02-02-TOR-PHX.csv</td>\n",
              "      <td>109</td>\n",
              "      <td>109</td>\n",
              "      <td>0</td>\n",
              "      <td>56</td>\n",
              "      <td>56</td>\n",
              "      <td>0</td>\n",
              "    </tr>\n",
              "  </tbody>\n",
              "</table>\n",
              "</div>"
            ],
            "text/plain": [
              "                game_name home_points_predicted home_points_actual home_loss  \\\n",
              "0  2016-02-01-MIL-SAC.csv                    87                 87         0   \n",
              "1  2016-02-01-TOR-DEN.csv                   112                112         0   \n",
              "2  2016-02-02-MIL-POR.csv                   115                 89        26   \n",
              "3  2016-02-02-MIN-LAL.csv                    84                 92        -8   \n",
              "4  2016-02-02-TOR-PHX.csv                   109                109         0   \n",
              "\n",
              "  away_points_predicted away_points_actual away_loss  \n",
              "0                    92                 92         0  \n",
              "1                    54                 54         0  \n",
              "2                    82                 81         1  \n",
              "3                    90                 96        -6  \n",
              "4                    56                 56         0  "
            ]
          },
          "metadata": {
            "tags": []
          },
          "execution_count": 20
        }
      ]
    },
    {
      "metadata": {
        "id": "LbzDVcyD8skT",
        "colab_type": "code",
        "colab": {}
      },
      "cell_type": "code",
      "source": [
        "import matplotlib.pyplot as plt\n",
        "from statistics import mean\n",
        "import numpy as np\n",
        "def graph_scores(results, side: str = \"home\"):\n",
        "    if side != \"home\" and side != \"away\":\n",
        "        raise ValueError(\"Please select either 'home' or 'away'\")\n",
        "    plt.scatter(results.index, results[side + \"_loss\"])\n",
        "    plt.xlabel(\"games\")\n",
        "    plt.ylabel(side + \" loss\")\n",
        "    plt.title(side + \" loss vs games\")\n",
        "    plt.tick_params(\n",
        "        axis='x',\n",
        "        which='both',\n",
        "        bottom=False,\n",
        "        top=False,\n",
        "        labelbottom=False\n",
        "    )\n",
        "    plt.axhline(y=0, color='r')\n",
        "    plt.tight_layout()\n",
        "    plt.show()"
      ],
      "execution_count": 0,
      "outputs": []
    },
    {
      "metadata": {
        "id": "ims6Cpo0k68D",
        "colab_type": "code",
        "outputId": "792cc334-1d64-435f-9bea-958da2c1b7ae",
        "colab": {
          "base_uri": "https://localhost:8080/",
          "height": 785
        }
      },
      "cell_type": "code",
      "source": [
        "graph_scores(results.sort_values(by=[\"home_loss\"]).reset_index(), side=\"home\")\n",
        "graph_scores(results.sort_values(by=[\"home_loss\"]).reset_index()[int(.25*len(results)):int(.75*len(results))], side=\"home\")"
      ],
      "execution_count": 22,
      "outputs": [
        {
          "output_type": "display_data",
          "data": {
            "image/png": "[encoded data removed]",
            "text/plain": [
              "<Figure size 576x396 with 1 Axes>"
            ]
          },
          "metadata": {
            "tags": []
          }
        },
        {
          "output_type": "display_data",
          "data": {
            "image/png": "[encoded data removed]",
            "text/plain": [
              "<Figure size 576x396 with 1 Axes>"
            ]
          },
          "metadata": {
            "tags": []
          }
        }
      ]
    },
    {
      "metadata": {
        "id": "FTseUrr6a5P2",
        "colab_type": "code",
        "outputId": "2a7a0f85-e8ae-4aa0-d602-0c661f9ac47a",
        "colab": {
          "base_uri": "https://localhost:8080/",
          "height": 785
        }
      },
      "cell_type": "code",
      "source": [
        "graph_scores(results.sort_values(by=[\"away_loss\"]).reset_index(), side=\"away\")\n",
        "graph_scores(results.sort_values(by=[\"away_loss\"]).reset_index()[int(.25*len(results)):int(.75*len(results))], side=\"away\")"
      ],
      "execution_count": 23,
      "outputs": [
        {
          "output_type": "display_data",
          "data": {
            "image/png": "[encoded data removed]",
            "text/plain": [
              "<Figure size 576x396 with 1 Axes>"
            ]
          },
          "metadata": {
            "tags": []
          }
        },
        {
          "output_type": "display_data",
          "data": {
            "image/png": "[encoded data removed]",
            "text/plain": [
              "<Figure size 576x396 with 1 Axes>"
            ]
          },
          "metadata": {
            "tags": []
          }
        }
      ]
    },
    {
      "metadata": {
        "id": "nHp0tliNnt-U",
        "colab_type": "code",
        "outputId": "15b1ef8c-ddcf-4e1e-f7f9-c87fd84e8e94",
        "colab": {
          "base_uri": "https://localhost:8080/",
          "height": 86
        }
      },
      "cell_type": "code",
      "source": [
        "print(mean(results[\"home_loss\"]))\n",
        "print(mean(results[\"away_loss\"]))\n",
        "print(mean_absolute_error(results[\"home_points_actual\"], results[\"home_points_predicted\"]))\n",
        "print(mean_absolute_error(results[\"away_points_actual\"], results[\"away_points_predicted\"]))"
      ],
      "execution_count": 24,
      "outputs": [
        {
          "output_type": "stream",
          "text": [
            "-0.11405835543766578\n",
            "0.026525198938992044\n",
            "2.40053050397878\n",
            "2.3978779840848805\n"
          ],
          "name": "stdout"
        }
      ]
    },
    {
      "metadata": {
        "id": "QzPv_e1obIS5",
        "colab_type": "code",
        "outputId": "513009af-78bd-47b2-94c1-6d9511cba1c2",
        "colab": {
          "base_uri": "https://localhost:8080/",
          "height": 393
        }
      },
      "cell_type": "code",
      "source": [
        "xgb.plot_importance(a_classifier, max_num_features=10)"
      ],
      "execution_count": 25,
      "outputs": [
        {
          "output_type": "execute_result",
          "data": {
            "text/plain": [
              "<matplotlib.axes._subplots.AxesSubplot at 0x7f12735269b0>"
            ]
          },
          "metadata": {
            "tags": []
          },
          "execution_count": 25
        },
        {
          "output_type": "display_data",
          "data": {
            "image/png": "[encoded data removed]",
            "text/plain": [
              "<Figure size 576x396 with 1 Axes>"
            ]
          },
          "metadata": {
            "tags": []
          }
        }
      ]
    },
    {
      "metadata": {
        "id": "eu04-8EisK93",
        "colab_type": "code",
        "outputId": "9fdaf83f-1052-4aa8-ef53-40c158d738bb",
        "colab": {
          "base_uri": "https://localhost:8080/",
          "height": 393
        }
      },
      "cell_type": "code",
      "source": [
        "xgb.plot_importance(h_classifier, max_num_features=10)"
      ],
      "execution_count": 26,
      "outputs": [
        {
          "output_type": "execute_result",
          "data": {
            "text/plain": [
              "<matplotlib.axes._subplots.AxesSubplot at 0x7f127348fef0>"
            ]
          },
          "metadata": {
            "tags": []
          },
          "execution_count": 26
        },
        {
          "output_type": "display_data",
          "data": {
            "image/png": "[encoded data removed]",
            "text/plain": [
              "<Figure size 576x396 with 1 Axes>"
            ]
          },
          "metadata": {
            "tags": []
          }
        }
      ]
    },
    {
      "metadata": {
        "id": "2HAxJg5TIxwY",
        "colab_type": "code",
        "outputId": "fee021dc-8a2b-44ee-f49a-b51e7918a94e",
        "colab": {
          "base_uri": "https://localhost:8080/",
          "height": 409
        }
      },
      "cell_type": "code",
      "source": [
        "xgb.to_graphviz(h_classifier)"
      ],
      "execution_count": 27,
      "outputs": [
        {
          "output_type": "execute_result",
          "data": {
            "text/plain": [
              "<graphviz.dot.Digraph at 0x7f127343cfd0>"
            ],
            "image/svg+xml": "<?xml version=\"1.0\" encoding=\"UTF-8\" standalone=\"no\"?>\n<!DOCTYPE svg PUBLIC \"-//W3C//DTD SVG 1.1//EN\"\n \"http://www.w3.org/Graphics/SVG/1.1/DTD/svg11.dtd\">\n<!-- Generated by graphviz version 2.40.1 (20161225.0304)\n -->\n<!-- Title: %3 Pages: 1 -->\n<svg width=\"248pt\" height=\"291pt\"\n viewBox=\"0.00 0.00 248.00 291.28\" xmlns=\"http://www.w3.org/2000/svg\" xmlns:xlink=\"http://www.w3.org/1999/xlink\">\n<g id=\"graph0\" class=\"graph\" transform=\"scale(1 1) rotate(0) translate(4 287.2826)\">\n<title>%3</title>\n<polygon fill=\"#ffffff\" stroke=\"transparent\" points=\"-4,4 -4,-287.2826 244,-287.2826 244,4 -4,4\"/>\n<!-- 0 -->\n<g id=\"node1\" class=\"node\">\n<title>0</title>\n<ellipse fill=\"none\" stroke=\"#000000\" cx=\"118.5\" cy=\"-185.1413\" rx=\"98.2828\" ry=\"98.2828\"/>\n<text text-anchor=\"middle\" x=\"118.5\" y=\"-181.4413\" font-family=\"Times,serif\" font-size=\"14.00\" fill=\"#000000\">home_PG_2PX&lt;0.875</text>\n</g>\n<!-- 1 -->\n<g id=\"node2\" class=\"node\">\n<title>1</title>\n<polygon fill=\"none\" stroke=\"#000000\" points=\"109,-36 0,-36 0,0 109,0 109,-36\"/>\n<text text-anchor=\"middle\" x=\"54.5\" y=\"-14.3\" font-family=\"Times,serif\" font-size=\"14.00\" fill=\"#000000\">leaf=0.0238421</text>\n</g>\n<!-- 0&#45;&gt;1 -->\n<g id=\"edge1\" class=\"edge\">\n<title>0&#45;&gt;1</title>\n<path fill=\"none\" stroke=\"#0000ff\" d=\"M83.3172,-93.2585C76.6511,-75.8494 70.1711,-58.9263 65.0497,-45.5513\"/>\n<polygon fill=\"#0000ff\" stroke=\"#0000ff\" points=\"68.2621,-44.1529 61.4175,-36.0657 61.7249,-46.6561 68.2621,-44.1529\"/>\n<text text-anchor=\"middle\" x=\"83\" y=\"-57.8\" font-family=\"Times,serif\" font-size=\"14.00\" fill=\"#000000\">yes</text>\n</g>\n<!-- 2 -->\n<g id=\"node3\" class=\"node\">\n<title>2</title>\n<polygon fill=\"none\" stroke=\"#000000\" points=\"240,-36 127,-36 127,0 240,0 240,-36\"/>\n<text text-anchor=\"middle\" x=\"183.5\" y=\"-14.3\" font-family=\"Times,serif\" font-size=\"14.00\" fill=\"#000000\">leaf=&#45;0.0491514</text>\n</g>\n<!-- 0&#45;&gt;2 -->\n<g id=\"edge2\" class=\"edge\">\n<title>0&#45;&gt;2</title>\n<path fill=\"none\" stroke=\"#ff0000\" d=\"M154.2325,-93.2585C161.0028,-75.8494 167.5841,-58.9263 172.7855,-45.5513\"/>\n<polygon fill=\"#ff0000\" stroke=\"#ff0000\" points=\"176.1118,-46.6544 176.4744,-36.0657 169.5878,-44.1172 176.1118,-46.6544\"/>\n<text text-anchor=\"middle\" x=\"202\" y=\"-57.8\" font-family=\"Times,serif\" font-size=\"14.00\" fill=\"#000000\">no, missing</text>\n</g>\n</g>\n</svg>\n"
          },
          "metadata": {
            "tags": []
          },
          "execution_count": 27
        }
      ]
    },
    {
      "metadata": {
        "id": "WcmOZh_kTUAZ",
        "colab_type": "code",
        "colab": {}
      },
      "cell_type": "code",
      "source": [
        "def calculate_softmax_values(logits):\n",
        "    exps = [np.exp(logit) for logit in logits]\n",
        "    exp_sum = sum(exps)\n",
        "    return [exp/exp_sum for exp in exps]"
      ],
      "execution_count": 0,
      "outputs": []
    },
    {
      "metadata": {
        "id": "AHb9oZMzU9gL",
        "colab_type": "code",
        "outputId": "a2187160-2b22-43f0-9bbc-bf81e75f4996",
        "colab": {
          "base_uri": "https://localhost:8080/",
          "height": 52
        }
      },
      "cell_type": "code",
      "source": [
        "softmax = calculate_softmax_values([0.0238421, -0.0491514])\n",
        "print(softmax)\n",
        "print(sum(softmax))"
      ],
      "execution_count": 29,
      "outputs": [
        {
          "output_type": "stream",
          "text": [
            "[0.5182402769585307, 0.4817597230414694]\n",
            "1.0\n"
          ],
          "name": "stdout"
        }
      ]
    },
    {
      "metadata": {
        "id": "UpK7HEmE_mcO",
        "colab_type": "code",
        "colab": {}
      },
      "cell_type": "code",
      "source": [
        "def determine_winner(results):\n",
        "    game_names = []\n",
        "    home_winner_pred = []\n",
        "    home_winner_actual = []\n",
        "    \n",
        "    for row in results.itertuples():\n",
        "        game_names.append(row.game_name)\n",
        "        \n",
        "        home_winner_pred.append(row.home_points_predicted > row.away_points_predicted)\n",
        "        home_winner_actual.append(row.home_points_actual > row.away_points_actual)\n",
        "        \n",
        "    return pd.DataFrame({\"game_name\": game_names, \"home_win_prediction\":\n",
        "                         home_winner_pred, \"home_win_actual\":\n",
        "                         home_winner_actual})"
      ],
      "execution_count": 0,
      "outputs": []
    },
    {
      "metadata": {
        "id": "ZXiDUj8FBMFH",
        "colab_type": "code",
        "outputId": "ff19ba64-b184-4697-d3b8-3228b393442d",
        "colab": {
          "base_uri": "https://localhost:8080/",
          "height": 206
        }
      },
      "cell_type": "code",
      "source": [
        "win_vals = determine_winner(results)\n",
        "win_vals.head()"
      ],
      "execution_count": 31,
      "outputs": [
        {
          "output_type": "execute_result",
          "data": {
            "text/html": [
              "<div>\n",
              "<style scoped>\n",
              "    .dataframe tbody tr th:only-of-type {\n",
              "        vertical-align: middle;\n",
              "    }\n",
              "\n",
              "    .dataframe tbody tr th {\n",
              "        vertical-align: top;\n",
              "    }\n",
              "\n",
              "    .dataframe thead th {\n",
              "        text-align: right;\n",
              "    }\n",
              "</style>\n",
              "<table border=\"1\" class=\"dataframe\">\n",
              "  <thead>\n",
              "    <tr style=\"text-align: right;\">\n",
              "      <th></th>\n",
              "      <th>game_name</th>\n",
              "      <th>home_win_actual</th>\n",
              "      <th>home_win_prediction</th>\n",
              "    </tr>\n",
              "  </thead>\n",
              "  <tbody>\n",
              "    <tr>\n",
              "      <th>0</th>\n",
              "      <td>2016-02-01-MIL-SAC.csv</td>\n",
              "      <td>False</td>\n",
              "      <td>False</td>\n",
              "    </tr>\n",
              "    <tr>\n",
              "      <th>1</th>\n",
              "      <td>2016-02-01-TOR-DEN.csv</td>\n",
              "      <td>True</td>\n",
              "      <td>True</td>\n",
              "    </tr>\n",
              "    <tr>\n",
              "      <th>2</th>\n",
              "      <td>2016-02-02-MIL-POR.csv</td>\n",
              "      <td>True</td>\n",
              "      <td>True</td>\n",
              "    </tr>\n",
              "    <tr>\n",
              "      <th>3</th>\n",
              "      <td>2016-02-02-MIN-LAL.csv</td>\n",
              "      <td>False</td>\n",
              "      <td>False</td>\n",
              "    </tr>\n",
              "    <tr>\n",
              "      <th>4</th>\n",
              "      <td>2016-02-02-TOR-PHX.csv</td>\n",
              "      <td>True</td>\n",
              "      <td>True</td>\n",
              "    </tr>\n",
              "  </tbody>\n",
              "</table>\n",
              "</div>"
            ],
            "text/plain": [
              "                game_name  home_win_actual  home_win_prediction\n",
              "0  2016-02-01-MIL-SAC.csv            False                False\n",
              "1  2016-02-01-TOR-DEN.csv             True                 True\n",
              "2  2016-02-02-MIL-POR.csv             True                 True\n",
              "3  2016-02-02-MIN-LAL.csv            False                False\n",
              "4  2016-02-02-TOR-PHX.csv             True                 True"
            ]
          },
          "metadata": {
            "tags": []
          },
          "execution_count": 31
        }
      ]
    },
    {
      "metadata": {
        "id": "JIJTxY_3BOTw",
        "colab_type": "code",
        "outputId": "c17ad3fe-4cbf-452a-f00c-9ea44df5cf80",
        "colab": {
          "base_uri": "https://localhost:8080/",
          "height": 34
        }
      },
      "cell_type": "code",
      "source": [
        "print(accuracy_score(win_vals[\"home_win_actual\"], win_vals[\"home_win_prediction\"]))"
      ],
      "execution_count": 32,
      "outputs": [
        {
          "output_type": "stream",
          "text": [
            "0.9177718832891246\n"
          ],
          "name": "stdout"
        }
      ]
    },
    {
      "metadata": {
        "id": "HaHsHLgDVLTo",
        "colab_type": "code",
        "colab": {}
      },
      "cell_type": "code",
      "source": [
        "pickle.dump(h_classifier, open(\"home_classifier.pickle.dat\", \"wb\"))\n",
        "pickle.dump(h_classifier, open(\"away_classifier.pickle.dat\", \"wb\"))\n",
        "h_classifier.get_booster().dump_model('home_trees.txt')\n",
        "a_classifier.get_booster().dump_model('away_trees.txt')\n",
        "test_df.sort_values(by=['game_name']).to_csv('test_data.csv', index=False)"
      ],
      "execution_count": 0,
      "outputs": []
    },
    {
      "metadata": {
        "id": "Enjl2r4ORmzj",
        "colab_type": "code",
        "colab": {}
      },
      "cell_type": "code",
      "source": [
        ""
      ],
      "execution_count": 0,
      "outputs": []
    }
  ]
}