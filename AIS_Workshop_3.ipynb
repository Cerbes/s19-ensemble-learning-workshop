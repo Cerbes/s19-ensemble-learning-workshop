{
  "nbformat": 4,
  "nbformat_minor": 0,
  "metadata": {
    "colab": {
      "name": "AIS Workshop 3.ipynb",
      "version": "0.3.2",
      "provenance": [],
      "collapsed_sections": []
    },
    "kernelspec": {
      "name": "python3",
      "display_name": "Python 3"
    },
    "accelerator": "GPU"
  },
  "cells": [
    {
      "metadata": {
        "id": "-e8ynT9Umhsi",
        "colab_type": "text"
      },
      "cell_type": "markdown",
      "source": [
        "# Workshop 3: Ensemble Learning with SciKit-Learn and XGBoost"
      ]
    },
    {
      "metadata": {
        "id": "bDye3XYDmu5y",
        "colab_type": "text"
      },
      "cell_type": "markdown",
      "source": [
        "## Import Libraries"
      ]
    },
    {
      "metadata": {
        "id": "VShDXodSmb9i",
        "colab_type": "code",
        "colab": {}
      },
      "cell_type": "code",
      "source": [
        "import numpy as np\n",
        "import pandas as pd\n",
        "import matplotlib.pyplot as plt\n",
        "%matplotlib inline"
      ],
      "execution_count": 0,
      "outputs": []
    },
    {
      "metadata": {
        "id": "-24xRi8LpXeU",
        "colab_type": "text"
      },
      "cell_type": "markdown",
      "source": [
        "## Reading in the Data\n"
      ]
    },
    {
      "metadata": {
        "id": "X-i4Lf9gm5iU",
        "colab_type": "code",
        "outputId": "fdc36a89-85f6-4eb4-c787-270f5dc04d26",
        "colab": {
          "resources": {
            "http://localhost:8080/nbextensions/google.colab/files.js": {
              "data": "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",
              "ok": true,
              "headers": [
                [
                  "content-type",
                  "application/javascript"
                ]
              ],
              "status": 200,
              "status_text": ""
            }
          },
          "base_uri": "https://localhost:8080/",
          "height": 71
        }
      },
      "cell_type": "code",
      "source": [
        "# imports our data into Colab\n",
        "from google.colab import files\n",
        "uploaded = files.upload()"
      ],
      "execution_count": 0,
      "outputs": [
        {
          "output_type": "display_data",
          "data": {
            "text/html": [
              "\n",
              "     <input type=\"file\" id=\"files-164c8db4-0284-4627-8dca-d6e5bfce5ee1\" name=\"files[]\" multiple disabled />\n",
              "     <output id=\"result-164c8db4-0284-4627-8dca-d6e5bfce5ee1\">\n",
              "      Upload widget is only available when the cell has been executed in the\n",
              "      current browser session. Please rerun this cell to enable.\n",
              "      </output>\n",
              "      <script src=\"/nbextensions/google.colab/files.js\"></script> "
            ],
            "text/plain": [
              "<IPython.core.display.HTML object>"
            ]
          },
          "metadata": {
            "tags": []
          }
        },
        {
          "output_type": "stream",
          "text": [
            "Saving adult.csv to adult.csv\n"
          ],
          "name": "stdout"
        }
      ]
    },
    {
      "metadata": {
        "id": "taY2DPYDOdCk",
        "colab_type": "code",
        "outputId": "ea359082-6d55-4009-f76e-1e17aa9f5a85",
        "colab": {
          "base_uri": "https://localhost:8080/",
          "height": 292
        }
      },
      "cell_type": "code",
      "source": [
        "df = pd.read_csv('/content/adult.csv')\n",
        "df.head()"
      ],
      "execution_count": 0,
      "outputs": [
        {
          "output_type": "execute_result",
          "data": {
            "text/html": [
              "<div>\n",
              "<style scoped>\n",
              "    .dataframe tbody tr th:only-of-type {\n",
              "        vertical-align: middle;\n",
              "    }\n",
              "\n",
              "    .dataframe tbody tr th {\n",
              "        vertical-align: top;\n",
              "    }\n",
              "\n",
              "    .dataframe thead th {\n",
              "        text-align: right;\n",
              "    }\n",
              "</style>\n",
              "<table border=\"1\" class=\"dataframe\">\n",
              "  <thead>\n",
              "    <tr style=\"text-align: right;\">\n",
              "      <th></th>\n",
              "      <th>age</th>\n",
              "      <th>workclass</th>\n",
              "      <th>fnlwgt</th>\n",
              "      <th>education</th>\n",
              "      <th>education.num</th>\n",
              "      <th>marital.status</th>\n",
              "      <th>occupation</th>\n",
              "      <th>relationship</th>\n",
              "      <th>race</th>\n",
              "      <th>sex</th>\n",
              "      <th>capital.gain</th>\n",
              "      <th>capital.loss</th>\n",
              "      <th>hours.per.week</th>\n",
              "      <th>native.country</th>\n",
              "      <th>income</th>\n",
              "    </tr>\n",
              "  </thead>\n",
              "  <tbody>\n",
              "    <tr>\n",
              "      <th>0</th>\n",
              "      <td>90</td>\n",
              "      <td>?</td>\n",
              "      <td>77053</td>\n",
              "      <td>HS-grad</td>\n",
              "      <td>9</td>\n",
              "      <td>Widowed</td>\n",
              "      <td>?</td>\n",
              "      <td>Not-in-family</td>\n",
              "      <td>White</td>\n",
              "      <td>Female</td>\n",
              "      <td>0</td>\n",
              "      <td>4356</td>\n",
              "      <td>40</td>\n",
              "      <td>United-States</td>\n",
              "      <td>&lt;=50K</td>\n",
              "    </tr>\n",
              "    <tr>\n",
              "      <th>1</th>\n",
              "      <td>82</td>\n",
              "      <td>Private</td>\n",
              "      <td>132870</td>\n",
              "      <td>HS-grad</td>\n",
              "      <td>9</td>\n",
              "      <td>Widowed</td>\n",
              "      <td>Exec-managerial</td>\n",
              "      <td>Not-in-family</td>\n",
              "      <td>White</td>\n",
              "      <td>Female</td>\n",
              "      <td>0</td>\n",
              "      <td>4356</td>\n",
              "      <td>18</td>\n",
              "      <td>United-States</td>\n",
              "      <td>&lt;=50K</td>\n",
              "    </tr>\n",
              "    <tr>\n",
              "      <th>2</th>\n",
              "      <td>66</td>\n",
              "      <td>?</td>\n",
              "      <td>186061</td>\n",
              "      <td>Some-college</td>\n",
              "      <td>10</td>\n",
              "      <td>Widowed</td>\n",
              "      <td>?</td>\n",
              "      <td>Unmarried</td>\n",
              "      <td>Black</td>\n",
              "      <td>Female</td>\n",
              "      <td>0</td>\n",
              "      <td>4356</td>\n",
              "      <td>40</td>\n",
              "      <td>United-States</td>\n",
              "      <td>&lt;=50K</td>\n",
              "    </tr>\n",
              "    <tr>\n",
              "      <th>3</th>\n",
              "      <td>54</td>\n",
              "      <td>Private</td>\n",
              "      <td>140359</td>\n",
              "      <td>7th-8th</td>\n",
              "      <td>4</td>\n",
              "      <td>Divorced</td>\n",
              "      <td>Machine-op-inspct</td>\n",
              "      <td>Unmarried</td>\n",
              "      <td>White</td>\n",
              "      <td>Female</td>\n",
              "      <td>0</td>\n",
              "      <td>3900</td>\n",
              "      <td>40</td>\n",
              "      <td>United-States</td>\n",
              "      <td>&lt;=50K</td>\n",
              "    </tr>\n",
              "    <tr>\n",
              "      <th>4</th>\n",
              "      <td>41</td>\n",
              "      <td>Private</td>\n",
              "      <td>264663</td>\n",
              "      <td>Some-college</td>\n",
              "      <td>10</td>\n",
              "      <td>Separated</td>\n",
              "      <td>Prof-specialty</td>\n",
              "      <td>Own-child</td>\n",
              "      <td>White</td>\n",
              "      <td>Female</td>\n",
              "      <td>0</td>\n",
              "      <td>3900</td>\n",
              "      <td>40</td>\n",
              "      <td>United-States</td>\n",
              "      <td>&lt;=50K</td>\n",
              "    </tr>\n",
              "  </tbody>\n",
              "</table>\n",
              "</div>"
            ],
            "text/plain": [
              "   age workclass  fnlwgt     education  education.num marital.status  \\\n",
              "0   90         ?   77053       HS-grad              9        Widowed   \n",
              "1   82   Private  132870       HS-grad              9        Widowed   \n",
              "2   66         ?  186061  Some-college             10        Widowed   \n",
              "3   54   Private  140359       7th-8th              4       Divorced   \n",
              "4   41   Private  264663  Some-college             10      Separated   \n",
              "\n",
              "          occupation   relationship   race     sex  capital.gain  \\\n",
              "0                  ?  Not-in-family  White  Female             0   \n",
              "1    Exec-managerial  Not-in-family  White  Female             0   \n",
              "2                  ?      Unmarried  Black  Female             0   \n",
              "3  Machine-op-inspct      Unmarried  White  Female             0   \n",
              "4     Prof-specialty      Own-child  White  Female             0   \n",
              "\n",
              "   capital.loss  hours.per.week native.country income  \n",
              "0          4356              40  United-States  <=50K  \n",
              "1          4356              18  United-States  <=50K  \n",
              "2          4356              40  United-States  <=50K  \n",
              "3          3900              40  United-States  <=50K  \n",
              "4          3900              40  United-States  <=50K  "
            ]
          },
          "metadata": {
            "tags": []
          },
          "execution_count": 3
        }
      ]
    },
    {
      "metadata": {
        "id": "QmvozjSHpujw",
        "colab_type": "text"
      },
      "cell_type": "markdown",
      "source": [
        "## Data Preprocessing \n",
        "\n",
        "\n",
        "*   Removing/imputing null/missing values\n",
        "*   Label encoding\n",
        "*  One-hot encoding\n",
        "*  Basic feature engineering/feature extraction\n",
        "* Splitting the data into training and testing sets\n",
        "\n"
      ]
    },
    {
      "metadata": {
        "id": "JfEFqZdmpwfA",
        "colab_type": "code",
        "colab": {}
      },
      "cell_type": "code",
      "source": [
        "from sklearn.preprocessing import LabelEncoder\n",
        "from collections import defaultdict\n",
        "\n",
        "label_encoders = defaultdict()\n",
        "\n",
        "lbl = LabelEncoder()\n",
        "df['sex'] = lbl.fit_transform(df['sex'])"
      ],
      "execution_count": 0,
      "outputs": []
    },
    {
      "metadata": {
        "id": "B23hOFmdRm7f",
        "colab_type": "code",
        "colab": {}
      },
      "cell_type": "code",
      "source": [
        "df.drop(['education'], axis=1, inplace=True)"
      ],
      "execution_count": 0,
      "outputs": []
    },
    {
      "metadata": {
        "id": "WWwvWSW1RvTK",
        "colab_type": "code",
        "outputId": "09bfbf7f-0747-47c9-fd8d-02df8db817de",
        "colab": {
          "base_uri": "https://localhost:8080/",
          "height": 270
        }
      },
      "cell_type": "code",
      "source": [
        "one_hot_encode_cols = ['workclass', 'marital.status', 'occupation', 'relationship', 'race', 'native.country']\n",
        "df = pd.get_dummies(df, columns=one_hot_encode_cols)\n",
        "df.head()"
      ],
      "execution_count": 0,
      "outputs": [
        {
          "output_type": "execute_result",
          "data": {
            "text/html": [
              "<div>\n",
              "<style scoped>\n",
              "    .dataframe tbody tr th:only-of-type {\n",
              "        vertical-align: middle;\n",
              "    }\n",
              "\n",
              "    .dataframe tbody tr th {\n",
              "        vertical-align: top;\n",
              "    }\n",
              "\n",
              "    .dataframe thead th {\n",
              "        text-align: right;\n",
              "    }\n",
              "</style>\n",
              "<table border=\"1\" class=\"dataframe\">\n",
              "  <thead>\n",
              "    <tr style=\"text-align: right;\">\n",
              "      <th></th>\n",
              "      <th>age</th>\n",
              "      <th>fnlwgt</th>\n",
              "      <th>education.num</th>\n",
              "      <th>sex</th>\n",
              "      <th>capital.gain</th>\n",
              "      <th>capital.loss</th>\n",
              "      <th>hours.per.week</th>\n",
              "      <th>income</th>\n",
              "      <th>workclass_?</th>\n",
              "      <th>workclass_Federal-gov</th>\n",
              "      <th>...</th>\n",
              "      <th>native.country_Portugal</th>\n",
              "      <th>native.country_Puerto-Rico</th>\n",
              "      <th>native.country_Scotland</th>\n",
              "      <th>native.country_South</th>\n",
              "      <th>native.country_Taiwan</th>\n",
              "      <th>native.country_Thailand</th>\n",
              "      <th>native.country_Trinadad&amp;Tobago</th>\n",
              "      <th>native.country_United-States</th>\n",
              "      <th>native.country_Vietnam</th>\n",
              "      <th>native.country_Yugoslavia</th>\n",
              "    </tr>\n",
              "  </thead>\n",
              "  <tbody>\n",
              "    <tr>\n",
              "      <th>0</th>\n",
              "      <td>90</td>\n",
              "      <td>77053</td>\n",
              "      <td>9</td>\n",
              "      <td>0</td>\n",
              "      <td>0</td>\n",
              "      <td>4356</td>\n",
              "      <td>40</td>\n",
              "      <td>&lt;=50K</td>\n",
              "      <td>1</td>\n",
              "      <td>0</td>\n",
              "      <td>...</td>\n",
              "      <td>0</td>\n",
              "      <td>0</td>\n",
              "      <td>0</td>\n",
              "      <td>0</td>\n",
              "      <td>0</td>\n",
              "      <td>0</td>\n",
              "      <td>0</td>\n",
              "      <td>1</td>\n",
              "      <td>0</td>\n",
              "      <td>0</td>\n",
              "    </tr>\n",
              "    <tr>\n",
              "      <th>1</th>\n",
              "      <td>82</td>\n",
              "      <td>132870</td>\n",
              "      <td>9</td>\n",
              "      <td>0</td>\n",
              "      <td>0</td>\n",
              "      <td>4356</td>\n",
              "      <td>18</td>\n",
              "      <td>&lt;=50K</td>\n",
              "      <td>0</td>\n",
              "      <td>0</td>\n",
              "      <td>...</td>\n",
              "      <td>0</td>\n",
              "      <td>0</td>\n",
              "      <td>0</td>\n",
              "      <td>0</td>\n",
              "      <td>0</td>\n",
              "      <td>0</td>\n",
              "      <td>0</td>\n",
              "      <td>1</td>\n",
              "      <td>0</td>\n",
              "      <td>0</td>\n",
              "    </tr>\n",
              "    <tr>\n",
              "      <th>2</th>\n",
              "      <td>66</td>\n",
              "      <td>186061</td>\n",
              "      <td>10</td>\n",
              "      <td>0</td>\n",
              "      <td>0</td>\n",
              "      <td>4356</td>\n",
              "      <td>40</td>\n",
              "      <td>&lt;=50K</td>\n",
              "      <td>1</td>\n",
              "      <td>0</td>\n",
              "      <td>...</td>\n",
              "      <td>0</td>\n",
              "      <td>0</td>\n",
              "      <td>0</td>\n",
              "      <td>0</td>\n",
              "      <td>0</td>\n",
              "      <td>0</td>\n",
              "      <td>0</td>\n",
              "      <td>1</td>\n",
              "      <td>0</td>\n",
              "      <td>0</td>\n",
              "    </tr>\n",
              "    <tr>\n",
              "      <th>3</th>\n",
              "      <td>54</td>\n",
              "      <td>140359</td>\n",
              "      <td>4</td>\n",
              "      <td>0</td>\n",
              "      <td>0</td>\n",
              "      <td>3900</td>\n",
              "      <td>40</td>\n",
              "      <td>&lt;=50K</td>\n",
              "      <td>0</td>\n",
              "      <td>0</td>\n",
              "      <td>...</td>\n",
              "      <td>0</td>\n",
              "      <td>0</td>\n",
              "      <td>0</td>\n",
              "      <td>0</td>\n",
              "      <td>0</td>\n",
              "      <td>0</td>\n",
              "      <td>0</td>\n",
              "      <td>1</td>\n",
              "      <td>0</td>\n",
              "      <td>0</td>\n",
              "    </tr>\n",
              "    <tr>\n",
              "      <th>4</th>\n",
              "      <td>41</td>\n",
              "      <td>264663</td>\n",
              "      <td>10</td>\n",
              "      <td>0</td>\n",
              "      <td>0</td>\n",
              "      <td>3900</td>\n",
              "      <td>40</td>\n",
              "      <td>&lt;=50K</td>\n",
              "      <td>0</td>\n",
              "      <td>0</td>\n",
              "      <td>...</td>\n",
              "      <td>0</td>\n",
              "      <td>0</td>\n",
              "      <td>0</td>\n",
              "      <td>0</td>\n",
              "      <td>0</td>\n",
              "      <td>0</td>\n",
              "      <td>0</td>\n",
              "      <td>1</td>\n",
              "      <td>0</td>\n",
              "      <td>0</td>\n",
              "    </tr>\n",
              "  </tbody>\n",
              "</table>\n",
              "<p>5 rows × 92 columns</p>\n",
              "</div>"
            ],
            "text/plain": [
              "   age  fnlwgt  education.num  sex  capital.gain  capital.loss  \\\n",
              "0   90   77053              9    0             0          4356   \n",
              "1   82  132870              9    0             0          4356   \n",
              "2   66  186061             10    0             0          4356   \n",
              "3   54  140359              4    0             0          3900   \n",
              "4   41  264663             10    0             0          3900   \n",
              "\n",
              "   hours.per.week income  workclass_?  workclass_Federal-gov  \\\n",
              "0              40  <=50K            1                      0   \n",
              "1              18  <=50K            0                      0   \n",
              "2              40  <=50K            1                      0   \n",
              "3              40  <=50K            0                      0   \n",
              "4              40  <=50K            0                      0   \n",
              "\n",
              "             ...              native.country_Portugal  \\\n",
              "0            ...                                    0   \n",
              "1            ...                                    0   \n",
              "2            ...                                    0   \n",
              "3            ...                                    0   \n",
              "4            ...                                    0   \n",
              "\n",
              "   native.country_Puerto-Rico  native.country_Scotland  native.country_South  \\\n",
              "0                           0                        0                     0   \n",
              "1                           0                        0                     0   \n",
              "2                           0                        0                     0   \n",
              "3                           0                        0                     0   \n",
              "4                           0                        0                     0   \n",
              "\n",
              "   native.country_Taiwan  native.country_Thailand  \\\n",
              "0                      0                        0   \n",
              "1                      0                        0   \n",
              "2                      0                        0   \n",
              "3                      0                        0   \n",
              "4                      0                        0   \n",
              "\n",
              "   native.country_Trinadad&Tobago  native.country_United-States  \\\n",
              "0                               0                             1   \n",
              "1                               0                             1   \n",
              "2                               0                             1   \n",
              "3                               0                             1   \n",
              "4                               0                             1   \n",
              "\n",
              "   native.country_Vietnam  native.country_Yugoslavia  \n",
              "0                       0                          0  \n",
              "1                       0                          0  \n",
              "2                       0                          0  \n",
              "3                       0                          0  \n",
              "4                       0                          0  \n",
              "\n",
              "[5 rows x 92 columns]"
            ]
          },
          "metadata": {
            "tags": []
          },
          "execution_count": 6
        }
      ]
    },
    {
      "metadata": {
        "id": "BXzggZ-lRwTS",
        "colab_type": "code",
        "colab": {}
      },
      "cell_type": "code",
      "source": [
        "X = df.drop(['income'], axis=1)\n",
        "y = df['income']"
      ],
      "execution_count": 0,
      "outputs": []
    },
    {
      "metadata": {
        "id": "kdgKSboyR1Oy",
        "colab_type": "code",
        "colab": {}
      },
      "cell_type": "code",
      "source": [
        "from sklearn.model_selection import train_test_split\n",
        "X_train, X_test, y_train, y_test = train_test_split(X, y, test_size=0.3, random_state=42)"
      ],
      "execution_count": 0,
      "outputs": []
    },
    {
      "metadata": {
        "id": "6nNKpUsa7x8v",
        "colab_type": "text"
      },
      "cell_type": "markdown",
      "source": [
        "## Ensemble Learning: Bagging "
      ]
    },
    {
      "metadata": {
        "id": "LEtJsMrsHai7",
        "colab_type": "text"
      },
      "cell_type": "markdown",
      "source": [
        "### Conceptual Background"
      ]
    },
    {
      "metadata": {
        "id": "5ckq048eCY5g",
        "colab_type": "text"
      },
      "cell_type": "markdown",
      "source": [
        "In any Machine Learning task, our main aim is to reduce the error. The idea is to train models on different dataset samples and reduce error. But the problem is we only have a single training set. The solution is we take a single learning algorithm and create variations of it. This solution is specifically called ensemble. When we combine these multiple independent and different models, the random errors cancel out each other and correct decisions are reinforced. \n",
        "\n",
        "1. The basic idea behind bagging is we take multiple bootstrap samples from the training set ie, we sample the dataset with replecement and all of them are of the same size as the dataset. \n",
        "2. We create different models using these samples.\n",
        "3. Then these models are combined to classify a new instance. For classification task, the majority of class labels are considered. For regression task, we take the average. \n",
        "\n",
        "![Bagging](https://cdn-images-1.medium.com/max/1600/0*zrm9Q8twgrq8lfLk.)\n",
        "\n",
        "**Strengths**\n",
        "* Reduces variance in comparison to regular decision trees\n",
        "* Can easily handle qualitative (categorical) features\n",
        "* Out of bag (OOB) estimates can be used for model validation\n",
        "\n",
        "**Weaknesses**\n",
        "* Not as easy to visually interpret\n",
        "* Does not reduce variance if the features are correlated"
      ]
    },
    {
      "metadata": {
        "id": "mxMZZjaTHdhJ",
        "colab_type": "text"
      },
      "cell_type": "markdown",
      "source": [
        "### Bagging Demo"
      ]
    },
    {
      "metadata": {
        "id": "tKVui9ae9Wcn",
        "colab_type": "code",
        "colab": {}
      },
      "cell_type": "code",
      "source": [
        "from sklearn.ensemble import BaggingClassifier, BaggingRegressor"
      ],
      "execution_count": 0,
      "outputs": []
    },
    {
      "metadata": {
        "id": "CgacR6URSgIf",
        "colab_type": "code",
        "outputId": "9a337d1c-3e48-4d1f-d7b0-656e9060e983",
        "colab": {
          "base_uri": "https://localhost:8080/",
          "height": 85
        }
      },
      "cell_type": "code",
      "source": [
        "bagging = BaggingClassifier(n_estimators=100, n_jobs=4)\n",
        "bagging.fit(X_train, y_train)"
      ],
      "execution_count": 0,
      "outputs": [
        {
          "output_type": "execute_result",
          "data": {
            "text/plain": [
              "BaggingClassifier(base_estimator=None, bootstrap=True,\n",
              "         bootstrap_features=False, max_features=1.0, max_samples=1.0,\n",
              "         n_estimators=100, n_jobs=4, oob_score=False, random_state=None,\n",
              "         verbose=0, warm_start=False)"
            ]
          },
          "metadata": {
            "tags": []
          },
          "execution_count": 10
        }
      ]
    },
    {
      "metadata": {
        "id": "yz_9GdsASq77",
        "colab_type": "code",
        "outputId": "1d5aadd4-5675-4876-e045-38d49927ac12",
        "colab": {
          "base_uri": "https://localhost:8080/",
          "height": 187
        }
      },
      "cell_type": "code",
      "source": [
        "from sklearn.metrics import classification_report, accuracy_score\n",
        "\n",
        "y_pred = bagging.predict(X_test)\n",
        "print('Accuracy score: {}'.format(accuracy_score(y_test, y_pred)))\n",
        "print(classification_report(y_test, y_pred))"
      ],
      "execution_count": 0,
      "outputs": [
        {
          "output_type": "stream",
          "text": [
            "Accuracy score: 0.8561777049851571\n",
            "              precision    recall  f1-score   support\n",
            "\n",
            "       <=50K       0.89      0.93      0.91      7429\n",
            "        >50K       0.74      0.62      0.67      2340\n",
            "\n",
            "   micro avg       0.86      0.86      0.86      9769\n",
            "   macro avg       0.81      0.77      0.79      9769\n",
            "weighted avg       0.85      0.86      0.85      9769\n",
            "\n"
          ],
          "name": "stdout"
        }
      ]
    },
    {
      "metadata": {
        "id": "pUKA6Uuf9edM",
        "colab_type": "text"
      },
      "cell_type": "markdown",
      "source": [
        "## Ensemble Learning: Random Forests\n"
      ]
    },
    {
      "metadata": {
        "id": "yh0nPsHzHJ4x",
        "colab_type": "text"
      },
      "cell_type": "markdown",
      "source": [
        "### Conceptual Background"
      ]
    },
    {
      "metadata": {
        "id": "SBtgeOQoES3B",
        "colab_type": "text"
      },
      "cell_type": "markdown",
      "source": [
        "Random Forest are special case of ensembles, specifically for Decision Trees (seen in previous workshop). In bagging, the only source of randomness was through samples. Here in addition to random sampling, we also sample the features. At each split of the decision tree, instead of considering all the features, we would examine only a random sample of attributes of fixed size. \n",
        "\n",
        "![Bagging vs Random Forest](https://i0.wp.com/www.petereliason.com/wp-content/uploads/2017/02/rf.png?resize=660%2C503)\n",
        "\n",
        "A Random Forest is trained as follows where T is some number of trees:\n",
        "\n",
        "> Sample N cases at random with replacement to create a subset of the data (see top layer of figure above). The subset should be about 66% of the total set.\n",
        "\n",
        ">At each node:\n",
        ">>For some number m, m predictor variables are selected at random from all the predictor variables.\n",
        "\n",
        ">>The predictor variable that provides the best split, according to some objective function, is used to do a binary split on that node.\n",
        "\n",
        ">>At the next node, choose another m variables at random from all predictor variables and do the same.\n",
        "\n",
        "![Random Forest Simplified](https://cdn-images-1.medium.com/max/1600/1*8lI2kFCsMF8AzHT0OQnG1g.png)\n",
        "\n",
        "**Strengths**:\n",
        "\n",
        "*   Very fast\n",
        "*   Able to deal with unbalanced and missing data\n",
        "\n",
        "**Weaknesses**:\n",
        "\n",
        "*   When used for regression, they cannot predict beyond the range in the training data\n",
        "*   They may over-fit data sets that are particularly noisy"
      ]
    },
    {
      "metadata": {
        "id": "GgBndVBrHNpc",
        "colab_type": "text"
      },
      "cell_type": "markdown",
      "source": [
        "### Random Forest Demo"
      ]
    },
    {
      "metadata": {
        "id": "g8Ws5K2S9wpc",
        "colab_type": "code",
        "colab": {}
      },
      "cell_type": "code",
      "source": [
        "from sklearn.ensemble import RandomForestClassifier, RandomForestRegressor"
      ],
      "execution_count": 0,
      "outputs": []
    },
    {
      "metadata": {
        "id": "R5lqkdXlTVkL",
        "colab_type": "code",
        "outputId": "7c66ced2-8828-417b-a7c7-8505efa94015",
        "colab": {
          "base_uri": "https://localhost:8080/",
          "height": 136
        }
      },
      "cell_type": "code",
      "source": [
        "rf = RandomForestClassifier(n_estimators=100, n_jobs=4)\n",
        "rf.fit(X_train, y_train)"
      ],
      "execution_count": 0,
      "outputs": [
        {
          "output_type": "execute_result",
          "data": {
            "text/plain": [
              "RandomForestClassifier(bootstrap=True, class_weight=None, criterion='gini',\n",
              "            max_depth=None, max_features='auto', max_leaf_nodes=None,\n",
              "            min_impurity_decrease=0.0, min_impurity_split=None,\n",
              "            min_samples_leaf=1, min_samples_split=2,\n",
              "            min_weight_fraction_leaf=0.0, n_estimators=100, n_jobs=4,\n",
              "            oob_score=False, random_state=None, verbose=0,\n",
              "            warm_start=False)"
            ]
          },
          "metadata": {
            "tags": []
          },
          "execution_count": 13
        }
      ]
    },
    {
      "metadata": {
        "id": "KaB4KXoFUKea",
        "colab_type": "code",
        "outputId": "0e9d0b7c-ced9-4cf6-c57d-c96f591f5d16",
        "colab": {
          "base_uri": "https://localhost:8080/",
          "height": 187
        }
      },
      "cell_type": "code",
      "source": [
        "y_pred = rf.predict(X_test)\n",
        "print('Accuracy score: {}'.format(accuracy_score(y_test, y_pred)))\n",
        "print(classification_report(y_test, y_pred))"
      ],
      "execution_count": 0,
      "outputs": [
        {
          "output_type": "stream",
          "text": [
            "Accuracy score: 0.8551540587572934\n",
            "              precision    recall  f1-score   support\n",
            "\n",
            "       <=50K       0.88      0.93      0.91      7429\n",
            "        >50K       0.74      0.61      0.67      2340\n",
            "\n",
            "   micro avg       0.86      0.86      0.86      9769\n",
            "   macro avg       0.81      0.77      0.79      9769\n",
            "weighted avg       0.85      0.86      0.85      9769\n",
            "\n"
          ],
          "name": "stdout"
        }
      ]
    },
    {
      "metadata": {
        "id": "3lDW66FE-TXw",
        "colab_type": "text"
      },
      "cell_type": "markdown",
      "source": [
        "## XGBoost: State of the Art Gradient Boosting Framework\n",
        "\n",
        "* Creating a Dmatrix\n",
        "* Training XGBoost models and testing them\n",
        "* Scikit-learn API for XGBoost\n",
        "* Plotting feature importances\n"
      ]
    },
    {
      "metadata": {
        "id": "7cQmzmg_HAVm",
        "colab_type": "text"
      },
      "cell_type": "markdown",
      "source": [
        "### Conceptual Background"
      ]
    },
    {
      "metadata": {
        "id": "_a5cbMnDGrwK",
        "colab_type": "text"
      },
      "cell_type": "markdown",
      "source": [
        "In bagging, different models were considered independent. It was a parallel process. But boosting is a sequential process. At each iteration, the model depends on the model from previous steps. Each sample is associated with weight. Initially, all the samples have equal weights and are re-assigned at the end of each iteration.  It is a gradual learning process where misclassified examples are assigned more weight and correctly classified ones are assigned less weight. Through this, we want to force the classifier to give more importance to the misclassified examples.\n",
        "\n",
        "![Bagging vs Boosting](https://image.slidesharecdn.com/boostingalgorithmsomarodibatacmmeetupnov2017-171116035904/95/boosting-algorithms-omar-odibat-30-638.jpg?cb=1510804849)\n",
        "\n",
        "Gradient boosting is a combination of Boosting and Gradient Descent. Here, the misclassified examples are not only identified by high weights but also by gradients. \n",
        "\n",
        "More information on Gradient Boosting:-\n",
        "https://www.youtube.com/watch?v=ufHo8vbk6g4\n",
        "\n",
        "**Strengths**\n",
        "* Somewhat more interpretable than bagged trees/random forest as the user can define the size of each tree resulting in a collection of stumps (1 level) which can be viewed as an additive model\n",
        "* Can easily handle qualitative (categorical) features\n",
        "\n",
        "**Weaknesses**\n",
        "* Unlike bagging and random forests, can overfit if number of trees is too large\n"
      ]
    },
    {
      "metadata": {
        "id": "inoL8DSgGhp7",
        "colab_type": "text"
      },
      "cell_type": "markdown",
      "source": [
        "### DMatrix with XGBoost"
      ]
    },
    {
      "metadata": {
        "id": "62OsD3BH9Mcf",
        "colab_type": "code",
        "colab": {}
      },
      "cell_type": "code",
      "source": [
        "# income needs to be encoded since DMatrix doesn't work well with categorical labels\n",
        "lbl = LabelEncoder()\n",
        "y_train = lbl.fit_transform(y_train)"
      ],
      "execution_count": 0,
      "outputs": []
    },
    {
      "metadata": {
        "id": "DHzLCD03-C_G",
        "colab_type": "code",
        "colab": {}
      },
      "cell_type": "code",
      "source": [
        "y_test = lbl.fit_transform(y_test)"
      ],
      "execution_count": 0,
      "outputs": []
    },
    {
      "metadata": {
        "id": "ksvyuIXB_jxV",
        "colab_type": "code",
        "outputId": "01cc0465-754b-4a80-c462-9aa5fe7e38b3",
        "colab": {
          "base_uri": "https://localhost:8080/",
          "height": 1754
        }
      },
      "cell_type": "code",
      "source": [
        "import xgboost as xgb\n",
        "\n",
        "# create a DMatrix for X_train and X_test\n",
        "dm_train = xgb.DMatrix(data=X_train, label=y_train)\n",
        "dm_test = xgb.DMatrix(data=X_test, label=y_test)\n",
        "\n",
        "params = {'objective' : 'binary:logistic', 'silent': 1}\n",
        "# watch_list=[(dm_test, 'eval'), (dm_train, 'train')]\n",
        "\n",
        "# train the model using the training DMatrix\n",
        "xg_model = xgb.train(params=params, dtrain=dm_train, num_boost_round=100)#, evals=watch_list)"
      ],
      "execution_count": 0,
      "outputs": [
        {
          "output_type": "stream",
          "text": [
            "[0]\teval-error:0.144744\ttrain-error:0.143515\n",
            "[1]\teval-error:0.14372\ttrain-error:0.140795\n",
            "[2]\teval-error:0.144539\ttrain-error:0.141146\n",
            "[3]\teval-error:0.142492\ttrain-error:0.138206\n",
            "[4]\teval-error:0.140649\ttrain-error:0.136583\n",
            "[5]\teval-error:0.140137\ttrain-error:0.135223\n",
            "[6]\teval-error:0.139932\ttrain-error:0.132941\n",
            "[7]\teval-error:0.137988\ttrain-error:0.13281\n",
            "[8]\teval-error:0.137271\ttrain-error:0.131932\n",
            "[9]\teval-error:0.137169\ttrain-error:0.13123\n",
            "[10]\teval-error:0.137271\ttrain-error:0.130879\n",
            "[11]\teval-error:0.136862\ttrain-error:0.13066\n",
            "[12]\teval-error:0.136145\ttrain-error:0.128949\n",
            "[13]\teval-error:0.136554\ttrain-error:0.12851\n",
            "[14]\teval-error:0.135121\ttrain-error:0.128027\n",
            "[15]\teval-error:0.135121\ttrain-error:0.126799\n",
            "[16]\teval-error:0.134712\ttrain-error:0.126097\n",
            "[17]\teval-error:0.132255\ttrain-error:0.123815\n",
            "[18]\teval-error:0.131231\ttrain-error:0.123289\n",
            "[19]\teval-error:0.130515\ttrain-error:0.121622\n",
            "[20]\teval-error:0.13072\ttrain-error:0.120349\n",
            "[21]\teval-error:0.128672\ttrain-error:0.11991\n",
            "[22]\teval-error:0.128877\ttrain-error:0.119208\n",
            "[23]\teval-error:0.128672\ttrain-error:0.119033\n",
            "[24]\teval-error:0.12857\ttrain-error:0.118857\n",
            "[25]\teval-error:0.128672\ttrain-error:0.118375\n",
            "[26]\teval-error:0.128979\ttrain-error:0.117015\n",
            "[27]\teval-error:0.128365\ttrain-error:0.116664\n",
            "[28]\teval-error:0.127853\ttrain-error:0.116049\n",
            "[29]\teval-error:0.127649\ttrain-error:0.114777\n",
            "[30]\teval-error:0.127546\ttrain-error:0.113987\n",
            "[31]\teval-error:0.128058\ttrain-error:0.113943\n",
            "[32]\teval-error:0.128468\ttrain-error:0.113373\n",
            "[33]\teval-error:0.12857\ttrain-error:0.113198\n",
            "[34]\teval-error:0.128775\ttrain-error:0.112013\n",
            "[35]\teval-error:0.12857\ttrain-error:0.111837\n",
            "[36]\teval-error:0.128365\ttrain-error:0.111223\n",
            "[37]\teval-error:0.128365\ttrain-error:0.111267\n",
            "[38]\teval-error:0.128365\ttrain-error:0.110126\n",
            "[39]\teval-error:0.12857\ttrain-error:0.109863\n",
            "[40]\teval-error:0.12857\ttrain-error:0.109907\n",
            "[41]\teval-error:0.12857\ttrain-error:0.109863\n",
            "[42]\teval-error:0.128468\ttrain-error:0.110258\n",
            "[43]\teval-error:0.128263\ttrain-error:0.109951\n",
            "[44]\teval-error:0.128263\ttrain-error:0.109644\n",
            "[45]\teval-error:0.12857\ttrain-error:0.1096\n",
            "[46]\teval-error:0.128365\ttrain-error:0.109512\n",
            "[47]\teval-error:0.128365\ttrain-error:0.109161\n",
            "[48]\teval-error:0.128058\ttrain-error:0.108722\n",
            "[49]\teval-error:0.128058\ttrain-error:0.108547\n",
            "[50]\teval-error:0.127751\ttrain-error:0.107801\n",
            "[51]\teval-error:0.127956\ttrain-error:0.107538\n",
            "[52]\teval-error:0.127751\ttrain-error:0.107625\n",
            "[53]\teval-error:0.128058\ttrain-error:0.107318\n",
            "[54]\teval-error:0.128058\ttrain-error:0.106836\n",
            "[55]\teval-error:0.12857\ttrain-error:0.106309\n",
            "[56]\teval-error:0.128672\ttrain-error:0.106265\n",
            "[57]\teval-error:0.128161\ttrain-error:0.10609\n",
            "[58]\teval-error:0.128263\ttrain-error:0.10587\n",
            "[59]\teval-error:0.128161\ttrain-error:0.105827\n",
            "[60]\teval-error:0.128775\ttrain-error:0.105432\n",
            "[61]\teval-error:0.128672\ttrain-error:0.105344\n",
            "[62]\teval-error:0.127956\ttrain-error:0.104335\n",
            "[63]\teval-error:0.128058\ttrain-error:0.104335\n",
            "[64]\teval-error:0.128672\ttrain-error:0.104247\n",
            "[65]\teval-error:0.128161\ttrain-error:0.104379\n",
            "[66]\teval-error:0.128365\ttrain-error:0.103896\n",
            "[67]\teval-error:0.128263\ttrain-error:0.10337\n",
            "[68]\teval-error:0.128263\ttrain-error:0.102799\n",
            "[69]\teval-error:0.128468\ttrain-error:0.102711\n",
            "[70]\teval-error:0.128468\ttrain-error:0.102711\n",
            "[71]\teval-error:0.12857\ttrain-error:0.102536\n",
            "[72]\teval-error:0.12857\ttrain-error:0.10236\n",
            "[73]\teval-error:0.128672\ttrain-error:0.101966\n",
            "[74]\teval-error:0.128979\ttrain-error:0.101922\n",
            "[75]\teval-error:0.129184\ttrain-error:0.101878\n",
            "[76]\teval-error:0.129184\ttrain-error:0.101922\n",
            "[77]\teval-error:0.129082\ttrain-error:0.101966\n",
            "[78]\teval-error:0.129287\ttrain-error:0.101878\n",
            "[79]\teval-error:0.129696\ttrain-error:0.101351\n",
            "[80]\teval-error:0.129798\ttrain-error:0.100562\n",
            "[81]\teval-error:0.129798\ttrain-error:0.100386\n",
            "[82]\teval-error:0.129389\ttrain-error:0.099947\n",
            "[83]\teval-error:0.129389\ttrain-error:0.09986\n",
            "[84]\teval-error:0.129389\ttrain-error:0.099947\n",
            "[85]\teval-error:0.129389\ttrain-error:0.09986\n",
            "[86]\teval-error:0.129491\ttrain-error:0.099728\n",
            "[87]\teval-error:0.129901\ttrain-error:0.098412\n",
            "[88]\teval-error:0.129798\ttrain-error:0.097315\n",
            "[89]\teval-error:0.129798\ttrain-error:0.097183\n",
            "[90]\teval-error:0.129901\ttrain-error:0.09692\n",
            "[91]\teval-error:0.129696\ttrain-error:0.096393\n",
            "[92]\teval-error:0.129901\ttrain-error:0.096262\n",
            "[93]\teval-error:0.129594\ttrain-error:0.095428\n",
            "[94]\teval-error:0.129389\ttrain-error:0.094989\n",
            "[95]\teval-error:0.129184\ttrain-error:0.094551\n",
            "[96]\teval-error:0.129491\ttrain-error:0.094287\n",
            "[97]\teval-error:0.129082\ttrain-error:0.094068\n",
            "[98]\teval-error:0.129389\ttrain-error:0.093849\n",
            "[99]\teval-error:0.129389\ttrain-error:0.093849\n"
          ],
          "name": "stdout"
        },
        {
          "output_type": "execute_result",
          "data": {
            "text/plain": [
              "\"\\nxg_model = xgb.XGBClassifier(n_estimators=400, n_jobs=4, gamma=1)\\nxg_model.fit(X_train, y_train)\\n\\ny_pred = xg_model.predict(X_test)\\nprint('Accuracy score:', format(100*accuracy_score(y_test, y_pred)), '%')\\nprint(classification_report(y_test, y_pred))\\n\\n# plot importance of top 20 features\\nxgb.plot_importance(xg_model, max_num_features=20)\\n\""
            ]
          },
          "metadata": {
            "tags": []
          },
          "execution_count": 18
        }
      ]
    },
    {
      "metadata": {
        "id": "Dv0d1W9I-Wng",
        "colab_type": "code",
        "outputId": "191439e1-a7d6-48e4-95bc-e7c369e6889a",
        "colab": {
          "base_uri": "https://localhost:8080/",
          "height": 51
        }
      },
      "cell_type": "code",
      "source": [
        "y_pred = xg_model.predict(dm_test)\n",
        "y_pred"
      ],
      "execution_count": 0,
      "outputs": [
        {
          "output_type": "execute_result",
          "data": {
            "text/plain": [
              "array([1.7616196e-01, 3.1843429e-04, 6.0422164e-01, ..., 2.8830050e-03,\n",
              "       2.3225224e-02, 1.1397157e-02], dtype=float32)"
            ]
          },
          "metadata": {
            "tags": []
          },
          "execution_count": 22
        }
      ]
    },
    {
      "metadata": {
        "id": "byG6PJam_NEX",
        "colab_type": "code",
        "outputId": "1f2f5615-b805-4cf3-cb9d-709451d3bbf9",
        "colab": {
          "base_uri": "https://localhost:8080/",
          "height": 187
        }
      },
      "cell_type": "code",
      "source": [
        "y_pred = [round(y) for y in y_pred]\n",
        "print('Accuracy Score: {}'.format(accuracy_score(y_test, y_pred)))\n",
        "print(classification_report(y_test, y_pred))"
      ],
      "execution_count": 0,
      "outputs": [
        {
          "output_type": "stream",
          "text": [
            "Accuracy Score: 0.8706111167980346\n",
            "              precision    recall  f1-score   support\n",
            "\n",
            "           0       0.89      0.94      0.92      7429\n",
            "           1       0.78      0.64      0.70      2340\n",
            "\n",
            "   micro avg       0.87      0.87      0.87      9769\n",
            "   macro avg       0.84      0.79      0.81      9769\n",
            "weighted avg       0.87      0.87      0.87      9769\n",
            "\n"
          ],
          "name": "stdout"
        }
      ]
    },
    {
      "metadata": {
        "id": "VWaaRD8bGH4e",
        "colab_type": "text"
      },
      "cell_type": "markdown",
      "source": [
        "### Scikit-learn XGBoost API"
      ]
    },
    {
      "metadata": {
        "id": "MHfleVn2B0rQ",
        "colab_type": "code",
        "outputId": "6a5c174a-e7af-49c0-f32c-9590ab3a521d",
        "colab": {
          "base_uri": "https://localhost:8080/",
          "height": 498
        }
      },
      "cell_type": "code",
      "source": [
        "# scikit-learn api\n",
        "xg_model = xgb.XGBClassifier(n_estimators=400, n_jobs=4, gamma=1)\n",
        "xg_model.fit(X_train, y_train)\n",
        "\n",
        "y_pred = xg_model.predict(X_test)\n",
        "y_pred = [round(y) for y in y_pred]\n",
        "print('Accuracy score: {}', format(accuracy_score(y_test, y_pred)))\n",
        "print(classification_report(y_test, y_pred))\n",
        "\n",
        "# plot importance of top 20 features\n",
        "xgb.plot_importance(xg_model, max_num_features=20)"
      ],
      "execution_count": 0,
      "outputs": [
        {
          "output_type": "stream",
          "text": [
            "Accuracy score: 87.47057017094892 %\n",
            "              precision    recall  f1-score   support\n",
            "\n",
            "       <=50K       0.89      0.95      0.92      7429\n",
            "        >50K       0.80      0.63      0.71      2340\n",
            "\n",
            "   micro avg       0.87      0.87      0.87      9769\n",
            "   macro avg       0.85      0.79      0.81      9769\n",
            "weighted avg       0.87      0.87      0.87      9769\n",
            "\n"
          ],
          "name": "stdout"
        },
        {
          "output_type": "execute_result",
          "data": {
            "text/plain": [
              "<matplotlib.axes._subplots.AxesSubplot at 0x7f070115d438>"
            ]
          },
          "metadata": {
            "tags": []
          },
          "execution_count": 64
        },
        {
          "output_type": "display_data",
          "data": {
            "image/png": "[encoded data removed]",
            "text/plain": [
              "<Figure size 432x288 with 1 Axes>"
            ]
          },
          "metadata": {
            "tags": []
          }
        }
      ]
    }
  ]
}